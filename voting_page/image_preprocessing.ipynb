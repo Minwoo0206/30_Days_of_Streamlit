{
 "cells": [
  {
   "cell_type": "code",
   "execution_count": 1,
   "metadata": {},
   "outputs": [],
   "source": [
    "import os\n",
    "from PIL import Image\n",
    "from rembg import remove\n",
    "from tqdm import tqdm"
   ]
  },
  {
   "cell_type": "code",
   "execution_count": 2,
   "metadata": {},
   "outputs": [
    {
     "name": "stderr",
     "output_type": "stream",
     "text": [
      "67it [09:11,  8.23s/it]\n"
     ]
    }
   ],
   "source": [
    "image_folder = \"images/\"\n",
    "for idx, image_dir in tqdm(enumerate(os.listdir(image_folder))):\n",
    "    if image_dir.split('/')[-1] == '.DS_Store': continue\n",
    "    input = Image.open(image_folder+image_dir)\n",
    "    output = remove(input)\n",
    "    output.save(\"images_processed/\"+image_dir)"
   ]
  },
  {
   "cell_type": "code",
   "execution_count": null,
   "metadata": {},
   "outputs": [],
   "source": []
  }
 ],
 "metadata": {
  "kernelspec": {
   "display_name": "stenv",
   "language": "python",
   "name": "python3"
  },
  "language_info": {
   "codemirror_mode": {
    "name": "ipython",
    "version": 3
   },
   "file_extension": ".py",
   "mimetype": "text/x-python",
   "name": "python",
   "nbconvert_exporter": "python",
   "pygments_lexer": "ipython3",
   "version": "3.9.19"
  }
 },
 "nbformat": 4,
 "nbformat_minor": 2
}
